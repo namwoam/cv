{
 "cells": [
  {
   "attachments": {},
   "cell_type": "markdown",
   "metadata": {},
   "source": [
    "# Computer Vision, Spring 2023 HW1\n",
    "B11705009 An-Che, Liang"
   ]
  },
  {
   "attachments": {},
   "cell_type": "markdown",
   "metadata": {},
   "source": [
    "## Part1: Difference of Gaussian"
   ]
  },
  {
   "cell_type": "code",
   "execution_count": 3,
   "metadata": {},
   "outputs": [],
   "source": [
    "import numpy as np\n",
    "import cv2\n",
    "import matplotlib.pyplot as plt\n",
    "DoG_img = cv2.imread(\"./part1/testdata/1.png\", 0).astype(np.float32)\n",
    "num_DoG_images_per_octave = 4\n",
    "num_guassian_images_per_octave = num_DoG_images_per_octave + 1\n",
    "sigma = \n",
    "\n",
    "\n",
    "def get_octave_blur(self, source):\n",
    "    result = [source.copy()]\n",
    "    for i in range(1, num_guassian_images_per_octave):\n",
    "        result.append(cv2.GaussianBlur(source, ksize=(0, 0),\n",
    "                      sigmaX=sigma**i, sigmaY=sigma**i))\n",
    "    return result\n",
    "\n",
    "\n",
    "blurred_images = []\n",
    "blurred_images.append(get_octave_blur(DoG_img))\n",
    "resized_last_image = cv2.resize(\n",
    "    blurred_images[-1][-1], (0, 0), fx=0.5, fy=0.5, interpolation=cv2.INTER_NEAREST)\n",
    "blurred_images.append(get_octave_blur(resized_last_image))\n",
    "dog_images = []\n",
    "for octave in blurred_images:\n",
    "    dog_images.append([])\n",
    "    for i in range(len(octave) - 1):\n",
    "        dog_images[-1].append(cv2.subtract(octave[i+1], octave[i]))\n",
    "\n",
    "for octave in blurred_images:\n",
    "    for image in \n"
   ]
  }
 ],
 "metadata": {
  "kernelspec": {
   "display_name": "cv2023",
   "language": "python",
   "name": "python3"
  },
  "language_info": {
   "codemirror_mode": {
    "name": "ipython",
    "version": 3
   },
   "file_extension": ".py",
   "mimetype": "text/x-python",
   "name": "python",
   "nbconvert_exporter": "python",
   "pygments_lexer": "ipython3",
   "version": "3.11.0"
  },
  "orig_nbformat": 4
 },
 "nbformat": 4,
 "nbformat_minor": 2
}
