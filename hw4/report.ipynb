{
 "cells": [
  {
   "attachments": {},
   "cell_type": "markdown",
   "metadata": {},
   "source": [
    "# Computer Vision, Spring 2023 HW4\n",
    "B11705009 An-Che, Liang"
   ]
  },
  {
   "attachments": {},
   "cell_type": "markdown",
   "metadata": {},
   "source": [
    "## Part 1: Visualization\n",
    "\n",
    "### Cones\n",
    "![](./Cones.png)\n",
    "\n",
    "### Teddy\n",
    "![](./Teddy.png)\n",
    "\n",
    "### Tsukuba\n",
    "![](./Tsukuba.png)\n",
    "\n",
    "### Venus\n",
    "![](./Venus.png)"
   ]
  },
  {
   "attachments": {},
   "cell_type": "markdown",
   "metadata": {},
   "source": [
    "## Part 2: Bad Pixel Ratio\n",
    "\n",
    "1. Tsukuba: 4.20%\n",
    "2. Teddy: 15.69%"
   ]
  },
  {
   "attachments": {},
   "cell_type": "markdown",
   "metadata": {},
   "source": [
    "## Part 3: Algorithm\n",
    "\n",
    "### Compute matching cost\n",
    "\n",
    "I used Absolute difference to calculate the matching cost of two pixels.\n",
    "\n",
    "### Cost Aggregation\n",
    "\n",
    "I used `xip.jointBilateralFilter` to smooth the noise of matching cost with the origanal image as guidance, which is different from the assignment information slide, but yield optimum results.\n",
    "\n",
    "### Disparity Optimization\n",
    "\n",
    "I use `np.argmin()` to get the disparity with minimum matching cost at each pixel.\n",
    "\n",
    "### Disparity Refinement\n",
    "\n",
    "Use like the assignment information slide, I first use left-right consistency check to mark points with inconsistent disparity, then find the vertically closest point with valid disparity, compare the left result and right result, then choose the smaller one to fill the hole. Finally use `xip.weightedMedianFilter` with regard of the original image to enhance the edges."
   ]
  }
 ],
 "metadata": {
  "language_info": {
   "name": "python"
  },
  "orig_nbformat": 4
 },
 "nbformat": 4,
 "nbformat_minor": 2
}
